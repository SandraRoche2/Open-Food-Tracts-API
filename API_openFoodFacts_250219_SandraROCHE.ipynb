{
 "cells": [
  {
   "cell_type": "markdown",
   "id": "4b2f76d4",
   "metadata": {},
   "source": [
    "## Open food facts : \n",
    "## evolution of the number of food products per nutrition score for the last 3 years"
   ]
  },
  {
   "cell_type": "markdown",
   "id": "e19f2be4",
   "metadata": {},
   "source": [
    "https://openfoodfacts.github.io/openfoodfacts-server/api/"
   ]
  },
  {
   "cell_type": "code",
   "execution_count": 3,
   "id": "29bfea58",
   "metadata": {},
   "outputs": [],
   "source": [
    "import pandas as pd\n",
    "import json\n",
    "import requests\n",
    "import matplotlib.pyplot as plt\n",
    "import seaborn as sns"
   ]
  },
  {
   "cell_type": "markdown",
   "id": "3ed485d5",
   "metadata": {},
   "source": [
    "## data collected in 2023"
   ]
  },
  {
   "cell_type": "code",
   "execution_count": 4,
   "id": "03dae3df",
   "metadata": {},
   "outputs": [],
   "source": [
    "# dict creation with all nutrition grade values\n",
    "nutri_score_2023 = {\"A\":143453, \"B\":133189, \"C\":209513, \"D\":303913, \"E\":176701}"
   ]
  },
  {
   "cell_type": "code",
   "execution_count": 5,
   "id": "8c04187b",
   "metadata": {},
   "outputs": [
    {
     "data": {
      "image/png": "[encoded data removed]",
      "text/plain": [
       "<Figure size 432x288 with 1 Axes>"
      ]
     },
     "metadata": {
      "needs_background": "light"
     },
     "output_type": "display_data"
    }
   ],
   "source": [
    "# from dict to bar plot\n",
    "score_names_2023 = list(nutri_score_2023.keys())\n",
    "score_values_2023 = list(nutri_score_2023.values())\n",
    "N = sum(score_values_2023)\n",
    "#print(N)\n",
    "\n",
    "plt.bar(range(len(nutri_score_2023)), score_values_2023, tick_label=score_names_2023)\n",
    "plt.xlabel(\"Nutri-score catégorie\")\n",
    "plt.ylabel(\"# produit\")\n",
    "plt.title(\"Nombre de produits par catégorie de Nutri-Score (N=966769)\")\n",
    "plt.savefig(\"NutriScore_categories.jpg\", bbox_inches='tight')\n",
    "plt.show()"
   ]
  },
  {
   "cell_type": "markdown",
   "id": "a83bf910",
   "metadata": {},
   "source": [
    "## data collected in February 2024"
   ]
  },
  {
   "cell_type": "code",
   "execution_count": 6,
   "id": "6a83ef96",
   "metadata": {},
   "outputs": [],
   "source": [
    "# dict creation with all nutrition grade values\n",
    "nutri_score_fev2024 = {\"A\":156112, \"B\":135020, \"C\":215938, \"D\":310852, \"E\":180852}"
   ]
  },
  {
   "cell_type": "code",
   "execution_count": 7,
   "id": "0f0f2134",
   "metadata": {},
   "outputs": [
    {
     "data": {
      "image/png": "[encoded data removed]",
      "text/plain": [
       "<Figure size 432x288 with 1 Axes>"
      ]
     },
     "metadata": {
      "needs_background": "light"
     },
     "output_type": "display_data"
    }
   ],
   "source": [
    "# from dict to bar plot\n",
    "score_names = list(nutri_score_fev2024.keys())\n",
    "score_values = list(nutri_score_fev2024.values())\n",
    "N = sum(score_values)\n",
    "#print(N)\n",
    "\n",
    "plt.bar(range(len(nutri_score_fev2024)), score_values, tick_label=score_names)\n",
    "plt.xlabel(\"Nutri-score category\")\n",
    "plt.ylabel(\"# product\")\n",
    "plt.title(\"Number of product per nutri-score category (N=1128774, February 2024)\")\n",
    "#plt.savefig(\"NutriScore_categories_2024.jpg\", bbox_inches='tight')\n",
    "plt.show()"
   ]
  },
  {
   "cell_type": "markdown",
   "id": "21ca9591",
   "metadata": {},
   "source": [
    "## data collected in February 2025"
   ]
  },
  {
   "cell_type": "code",
   "execution_count": 8,
   "id": "e7567f37",
   "metadata": {},
   "outputs": [
    {
     "name": "stdout",
     "output_type": "stream",
     "text": [
      "<class 'dict'>\n"
     ]
    }
   ],
   "source": [
    "# nutrition grades search for A grade\n",
    "url1 = \"https://world.openfoodfacts.net/api/v2/search?nutrition_grades_tags=a\"\n",
    "r1 = requests.get(url1)\n",
    "json_data1 = dict(r1.json())\n",
    "print(type(json_data1))"
   ]
  },
  {
   "cell_type": "code",
   "execution_count": 9,
   "id": "683ed9c2",
   "metadata": {},
   "outputs": [
    {
     "data": {
      "text/plain": [
       "dict_keys(['count', 'page', 'page_count', 'page_size', 'products', 'skip'])"
      ]
     },
     "execution_count": 9,
     "metadata": {},
     "output_type": "execute_result"
    }
   ],
   "source": [
    "# keys from json_data1 that can be requested ?\n",
    "all_keys1 = json_data1.keys()\n",
    "#all_keys1"
   ]
  },
  {
   "cell_type": "code",
   "execution_count": 10,
   "id": "5b0c0dc7",
   "metadata": {},
   "outputs": [
    {
     "name": "stdout",
     "output_type": "stream",
     "text": [
      "product number in the nutrition garde A : 186615\n"
     ]
    }
   ],
   "source": [
    "# number of product with A grade\n",
    "gradeA_2025 = json_data1[\"count\"]\n",
    "print(\"product number in the nutrition garde A :\", gradeA_2025)"
   ]
  },
  {
   "cell_type": "code",
   "execution_count": 13,
   "id": "442374f4",
   "metadata": {},
   "outputs": [],
   "source": [
    "# nutrition grades search for B grade\n",
    "url2 = \"https://world.openfoodfacts.net/api/v2/search?nutrition_grades_tags=b\"\n",
    "r2 = requests.get(url2)\n",
    "json_data2 = dict(r2.json())\n",
    "#print(type(json_data2))"
   ]
  },
  {
   "cell_type": "code",
   "execution_count": 12,
   "id": "ab8917f3",
   "metadata": {},
   "outputs": [
    {
     "name": "stdout",
     "output_type": "stream",
     "text": [
      "product number in the nutrition garde B : 154549\n"
     ]
    }
   ],
   "source": [
    "# number of product with B grade\n",
    "gradeB_2025 = json_data2[\"count\"]\n",
    "print(\"product number in the nutrition garde B :\", gradeB_2025)"
   ]
  },
  {
   "cell_type": "code",
   "execution_count": 14,
   "id": "299a4eb7",
   "metadata": {},
   "outputs": [],
   "source": [
    "# nutrition grades search for C grade\n",
    "url3 = \"https://world.openfoodfacts.net/api/v2/search?nutrition_grades_tags=c\"\n",
    "r3 = requests.get(url3)\n",
    "json_data3 = dict(r3.json())\n",
    "#print(type(json_data3))"
   ]
  },
  {
   "cell_type": "code",
   "execution_count": 15,
   "id": "b692de4f",
   "metadata": {},
   "outputs": [
    {
     "name": "stdout",
     "output_type": "stream",
     "text": [
      "product number in the nutrition garde C : 242082\n"
     ]
    }
   ],
   "source": [
    "# number of product with C grade\n",
    "gradeC_2025 = json_data3[\"count\"]\n",
    "print(\"product number in the nutrition garde C :\", gradeC_2025)"
   ]
  },
  {
   "cell_type": "code",
   "execution_count": 16,
   "id": "82633f7e",
   "metadata": {},
   "outputs": [],
   "source": [
    "# nutrition grades search for D grade\n",
    "url4 = \"https://world.openfoodfacts.net/api/v2/search?nutrition_grades_tags=d\"\n",
    "r4 = requests.get(url4)\n",
    "json_data4 = dict(r4.json())\n",
    "#print(type(json_data4))"
   ]
  },
  {
   "cell_type": "code",
   "execution_count": 17,
   "id": "638960d2",
   "metadata": {},
   "outputs": [
    {
     "name": "stdout",
     "output_type": "stream",
     "text": [
      "product number in the nutrition garde D : 345652\n"
     ]
    }
   ],
   "source": [
    "# number of product with D grade\n",
    "gradeD_2025 = json_data4[\"count\"]\n",
    "print(\"product number in the nutrition garde D :\", gradeD_2025)"
   ]
  },
  {
   "cell_type": "code",
   "execution_count": 18,
   "id": "ab3b6f47",
   "metadata": {},
   "outputs": [],
   "source": [
    "# nutrition grades search for E grade\n",
    "url5 = \"https://world.openfoodfacts.net/api/v2/search?nutrition_grades_tags=e\"\n",
    "r5 = requests.get(url5)\n",
    "json_data5 = dict(r5.json())\n",
    "#print(type(json_data5))"
   ]
  },
  {
   "cell_type": "code",
   "execution_count": 19,
   "id": "56397cef",
   "metadata": {},
   "outputs": [
    {
     "name": "stdout",
     "output_type": "stream",
     "text": [
      "product number in the nutrition garde E : 201933\n"
     ]
    }
   ],
   "source": [
    "# number of product with E grade\n",
    "gradeE_2025 = json_data5[\"count\"]\n",
    "print(\"product number in the nutrition garde E :\", gradeE_2025)"
   ]
  },
  {
   "cell_type": "code",
   "execution_count": 20,
   "id": "680b2f56",
   "metadata": {},
   "outputs": [],
   "source": [
    "# dict creation with all nutrition grade values in 2025\n",
    "nutri_score_fev2025 = {\"A\":gradeA_2025, \"B\":gradeB_2025, \"C\":gradeC_2025, \"D\":gradeD_2025, \"E\":gradeE_2025}"
   ]
  },
  {
   "cell_type": "code",
   "execution_count": 21,
   "id": "5cdf32d1",
   "metadata": {},
   "outputs": [
    {
     "name": "stdout",
     "output_type": "stream",
     "text": [
      "1130831\n"
     ]
    }
   ],
   "source": [
    "# from dict to bar plot\n",
    "score_names = list(nutri_score_fev2025.keys())\n",
    "score_values = list(nutri_score_fev2025.values())\n",
    "N = sum(score_values)\n",
    "print(N)"
   ]
  },
  {
   "cell_type": "code",
   "execution_count": 22,
   "id": "cfa394d7",
   "metadata": {},
   "outputs": [
    {
     "data": {
      "image/png": "[encoded data removed]",
      "text/plain": [
       "<Figure size 432x288 with 1 Axes>"
      ]
     },
     "metadata": {
      "needs_background": "light"
     },
     "output_type": "display_data"
    }
   ],
   "source": [
    "plt.bar(range(len(nutri_score_fev2025)), score_values, tick_label=score_names)\n",
    "plt.xlabel(\"Nutri-score category\")\n",
    "plt.ylabel(\"# product\")\n",
    "plt.title(\"Number of product per nutri-score category (N=1130741, February 2025)\")\n",
    "#plt.savefig(\"NutriScore_categories_2024.jpg\", bbox_inches='tight')\n",
    "plt.show()"
   ]
  },
  {
   "cell_type": "markdown",
   "id": "708b2fff",
   "metadata": {},
   "source": [
    "## comparison of the 3 last years"
   ]
  },
  {
   "cell_type": "code",
   "execution_count": 23,
   "id": "db4dbb9b",
   "metadata": {},
   "outputs": [],
   "source": [
    "# data collected from the last 3 years\n",
    "list_2023 = [143453, 133189, 209513, 303913, 176701]\n",
    "list_2024 =[156112, 135020, 215938, 310852, 180852]\n",
    "list_2025 = [gradeA_2025, gradeB_2025, gradeC_2025, gradeD_2025, gradeE_2025]\n",
    "score = [\"A\", \"B\", \"C\", \"D\", \"E\"]"
   ]
  },
  {
   "cell_type": "code",
   "execution_count": 24,
   "id": "ddd6d9fe",
   "metadata": {},
   "outputs": [
    {
     "data": {
      "text/html": [
       "<div>\n",
       "<style scoped>\n",
       "    .dataframe tbody tr th:only-of-type {\n",
       "        vertical-align: middle;\n",
       "    }\n",
       "\n",
       "    .dataframe tbody tr th {\n",
       "        vertical-align: top;\n",
       "    }\n",
       "\n",
       "    .dataframe thead th {\n",
       "        text-align: right;\n",
       "    }\n",
       "</style>\n",
       "<table border=\"1\" class=\"dataframe\">\n",
       "  <thead>\n",
       "    <tr style=\"text-align: right;\">\n",
       "      <th></th>\n",
       "      <th>nutri score</th>\n",
       "      <th>2023</th>\n",
       "      <th>2024</th>\n",
       "      <th>2025</th>\n",
       "    </tr>\n",
       "  </thead>\n",
       "  <tbody>\n",
       "    <tr>\n",
       "      <th>0</th>\n",
       "      <td>A</td>\n",
       "      <td>143453</td>\n",
       "      <td>156112</td>\n",
       "      <td>186615</td>\n",
       "    </tr>\n",
       "    <tr>\n",
       "      <th>1</th>\n",
       "      <td>B</td>\n",
       "      <td>133189</td>\n",
       "      <td>135020</td>\n",
       "      <td>154549</td>\n",
       "    </tr>\n",
       "    <tr>\n",
       "      <th>2</th>\n",
       "      <td>C</td>\n",
       "      <td>209513</td>\n",
       "      <td>215938</td>\n",
       "      <td>242082</td>\n",
       "    </tr>\n",
       "    <tr>\n",
       "      <th>3</th>\n",
       "      <td>D</td>\n",
       "      <td>303913</td>\n",
       "      <td>310852</td>\n",
       "      <td>345652</td>\n",
       "    </tr>\n",
       "    <tr>\n",
       "      <th>4</th>\n",
       "      <td>E</td>\n",
       "      <td>176701</td>\n",
       "      <td>180852</td>\n",
       "      <td>201933</td>\n",
       "    </tr>\n",
       "  </tbody>\n",
       "</table>\n",
       "</div>"
      ],
      "text/plain": [
       "  nutri score    2023    2024    2025\n",
       "0           A  143453  156112  186615\n",
       "1           B  133189  135020  154549\n",
       "2           C  209513  215938  242082\n",
       "3           D  303913  310852  345652\n",
       "4           E  176701  180852  201933"
      ]
     },
     "execution_count": 24,
     "metadata": {},
     "output_type": "execute_result"
    }
   ],
   "source": [
    "# create a dataframe with all data\n",
    "nutri_score_df = pd.DataFrame({\"nutri score\":score, \"2023\":list_2023, \"2024\":list_2024, \"2025\":list_2025})\n",
    "nutri_score_df"
   ]
  },
  {
   "cell_type": "code",
   "execution_count": 25,
   "id": "c6e75b81",
   "metadata": {},
   "outputs": [
    {
     "data": {
      "image/png": "[encoded data removed]",
      "text/plain": [
       "<Figure size 432x288 with 1 Axes>"
      ]
     },
     "metadata": {
      "needs_background": "light"
     },
     "output_type": "display_data"
    }
   ],
   "source": [
    "# create a bar plot to compare the data\n",
    "nutri_score_df.plot(x=\"nutri score\", y=[\"2023\", \"2024\", \"2025\"], kind=\"bar\", rot=0)\n",
    "plt.title(\"Data distribution per nutri score (API open Food Track)\")\n",
    "plt.show()"
   ]
  },
  {
   "cell_type": "markdown",
   "id": "a4cd008b",
   "metadata": {},
   "source": [
    "same food products distribution for the last 3 years"
   ]
  },
  {
   "cell_type": "code",
   "execution_count": 28,
   "id": "94b8b02f",
   "metadata": {},
   "outputs": [],
   "source": [
    "# add total and percent columns to the dataframe\n",
    "nutri_score_df[\"total\"] = nutri_score_df.sum(axis=1, numeric_only=True)\n",
    "nutri_score_df[\"percent\"] = round((nutri_score_df[\"total\"] / nutri_score_df[\"total\"].sum()) * 100, 1)\n",
    "#nutri_score_df"
   ]
  },
  {
   "cell_type": "code",
   "execution_count": 27,
   "id": "3a932318",
   "metadata": {},
   "outputs": [
    {
     "data": {
      "text/html": [
       "<div>\n",
       "<style scoped>\n",
       "    .dataframe tbody tr th:only-of-type {\n",
       "        vertical-align: middle;\n",
       "    }\n",
       "\n",
       "    .dataframe tbody tr th {\n",
       "        vertical-align: top;\n",
       "    }\n",
       "\n",
       "    .dataframe thead th {\n",
       "        text-align: right;\n",
       "    }\n",
       "</style>\n",
       "<table border=\"1\" class=\"dataframe\">\n",
       "  <thead>\n",
       "    <tr style=\"text-align: right;\">\n",
       "      <th></th>\n",
       "      <th>nutri score</th>\n",
       "      <th>2023</th>\n",
       "      <th>2024</th>\n",
       "      <th>2025</th>\n",
       "      <th>total</th>\n",
       "      <th>percent</th>\n",
       "    </tr>\n",
       "  </thead>\n",
       "  <tbody>\n",
       "    <tr>\n",
       "      <th>3</th>\n",
       "      <td>D</td>\n",
       "      <td>303913</td>\n",
       "      <td>310852</td>\n",
       "      <td>345652</td>\n",
       "      <td>960417</td>\n",
       "      <td>31.0</td>\n",
       "    </tr>\n",
       "    <tr>\n",
       "      <th>2</th>\n",
       "      <td>C</td>\n",
       "      <td>209513</td>\n",
       "      <td>215938</td>\n",
       "      <td>242082</td>\n",
       "      <td>667533</td>\n",
       "      <td>21.6</td>\n",
       "    </tr>\n",
       "    <tr>\n",
       "      <th>4</th>\n",
       "      <td>E</td>\n",
       "      <td>176701</td>\n",
       "      <td>180852</td>\n",
       "      <td>201933</td>\n",
       "      <td>559486</td>\n",
       "      <td>18.1</td>\n",
       "    </tr>\n",
       "    <tr>\n",
       "      <th>0</th>\n",
       "      <td>A</td>\n",
       "      <td>143453</td>\n",
       "      <td>156112</td>\n",
       "      <td>186615</td>\n",
       "      <td>486180</td>\n",
       "      <td>15.7</td>\n",
       "    </tr>\n",
       "    <tr>\n",
       "      <th>1</th>\n",
       "      <td>B</td>\n",
       "      <td>133189</td>\n",
       "      <td>135020</td>\n",
       "      <td>154549</td>\n",
       "      <td>422758</td>\n",
       "      <td>13.7</td>\n",
       "    </tr>\n",
       "  </tbody>\n",
       "</table>\n",
       "</div>"
      ],
      "text/plain": [
       "  nutri score    2023    2024    2025   total  percent\n",
       "3           D  303913  310852  345652  960417     31.0\n",
       "2           C  209513  215938  242082  667533     21.6\n",
       "4           E  176701  180852  201933  559486     18.1\n",
       "0           A  143453  156112  186615  486180     15.7\n",
       "1           B  133189  135020  154549  422758     13.7"
      ]
     },
     "execution_count": 27,
     "metadata": {},
     "output_type": "execute_result"
    }
   ],
   "source": [
    "# sorted df by percent\n",
    "sorted_result = nutri_score_df.sort_values(by=[\"percent\"], ascending=False)\n",
    "sorted_result"
   ]
  },
  {
   "cell_type": "markdown",
   "id": "65c9cff9",
   "metadata": {},
   "source": [
    "One third of the food products has a nutri score grade D. \\\n",
    "Food products with grades C & D have similar percent. \\\n",
    "Nutri score grades A & B are the less represented food product."
   ]
  },
  {
   "cell_type": "markdown",
   "id": "f6ac286d",
   "metadata": {},
   "source": [
    "## examples of food products with nutrition score A"
   ]
  },
  {
   "cell_type": "code",
   "execution_count": 29,
   "id": "36267293",
   "metadata": {},
   "outputs": [],
   "source": [
    "# extract products with nutrition score A\n",
    "product_gradeA_2025 = json_data1[\"products\"]\n",
    "#product_gradeA_2025"
   ]
  },
  {
   "cell_type": "code",
   "execution_count": 30,
   "id": "c2917999",
   "metadata": {},
   "outputs": [],
   "source": [
    "#print(len(product_gradeA_2025))\n",
    "#print(type(product_gradeA_2025))"
   ]
  },
  {
   "cell_type": "code",
   "execution_count": 43,
   "id": "345e3b6c",
   "metadata": {},
   "outputs": [
    {
     "name": "stdout",
     "output_type": "stream",
     "text": [
      "Product with grade A : 0 = 6111035000430, Sidi Ali\n",
      "Product with grade A : 1 = 6111035002175, sidi ali\n",
      "Product with grade A : 2 = 6111035000058, Sidi Ali,Les Eaux Minérales d'oulmès\n",
      "Product with grade A : 3 = 6111252421568, pepsi,PepsiCo\n",
      "Product with grade A : 4 = 3274080005003, Cristaline\n",
      "Product with grade A : 5 = 6111246721261, MILKY FOOD PROFESSIONAL\n",
      "Product with grade A : 6 = 6111128000071, Danone\n",
      "Product with grade A : 7 = 6111035502828, Ain atlas\n",
      "Product with grade A : 8 = 6111035000027, Eaux Minérales d'Oulmes\n",
      "Product with grade A : 9 = 6111242100985, Jaouda\n",
      "Product with grade A : 10 = 6111252421582, pepsi\n",
      "Product with grade A : 11 = 6111035003035, Les eaux minérales d'Oulmès S.A.\n",
      "Product with grade A : 12 = 6111128000163, Danone\n",
      "Product with grade A : 13 = 6111035001659, Eau minérale naturelle des Montagnes d'Atlas\n",
      "Product with grade A : 14 = 6111242100206, Jaouda\n",
      "Product with grade A : 15 = 6111035001635, Eau minérale naturelle\n",
      "Product with grade A : 16 = 6111128000460, aïn Saiss\n",
      "Product with grade A : 17 = 3268840001008, Cristaline\n",
      "Product with grade A : 18 = 5025125000112, Jason’s\n",
      "Product with grade A : 19 = 5025125000037, Jason's\n"
     ]
    }
   ],
   "source": [
    "# visualize some products with grade A\n",
    "for i in range(len(product_gradeA_2025)):\n",
    "    b = product_gradeA_2025[i]['brands']\n",
    "    id = product_gradeA_2025[i]['_id']\n",
    "    print(f\"Product with grade A : {i} = {id}, {b}\")"
   ]
  },
  {
   "cell_type": "code",
   "execution_count": 39,
   "id": "880f342d",
   "metadata": {},
   "outputs": [],
   "source": [
    "# search info for a specific product based on the code --> Product with grade A : 11 = 6111035003035, Les eaux minérales d'Oulmès S.A.\n",
    "url10 = \"https://world.openfoodfacts.net/api/v2/product/6111035003035\" \n",
    "r10 = requests.get(url10)\n",
    "json_data10 = dict(r10.json())\n",
    "#print(type(json_data10))"
   ]
  },
  {
   "cell_type": "code",
   "execution_count": 40,
   "id": "dd758c74",
   "metadata": {},
   "outputs": [],
   "source": [
    "#print(json_data10.keys())"
   ]
  },
  {
   "cell_type": "code",
   "execution_count": 41,
   "id": "94147a23",
   "metadata": {},
   "outputs": [],
   "source": [
    "#print(type(json_data10['product']))"
   ]
  },
  {
   "cell_type": "code",
   "execution_count": 42,
   "id": "18f7f4b4",
   "metadata": {},
   "outputs": [],
   "source": [
    "#print(json_data10['product'].keys())"
   ]
  },
  {
   "cell_type": "code",
   "execution_count": 38,
   "id": "285e9130",
   "metadata": {},
   "outputs": [
    {
     "name": "stdout",
     "output_type": "stream",
     "text": [
      "['14001', '22000', '45001', '9001', 'boisson', 'carbonated', 'co2', 'de', 'eaux', 'gazeuse', 'iso', 'le', 'maroc', 'minerale', 'natural', 'naturel', 'naturelle', 'oulme', 's-a', 'source', 'water']\n"
     ]
    }
   ],
   "source": [
    "# print info from the chosen product \n",
    "print(json_data10['product'][\"_keywords\"])"
   ]
  },
  {
   "cell_type": "code",
   "execution_count": null,
   "id": "bb0bcb23",
   "metadata": {},
   "outputs": [],
   "source": []
  },
  {
   "cell_type": "code",
   "execution_count": null,
   "id": "11b76998",
   "metadata": {},
   "outputs": [],
   "source": []
  }
 ],
 "metadata": {
  "kernelspec": {
   "display_name": "Python 3 (ipykernel)",
   "language": "python",
   "name": "python3"
  },
  "language_info": {
   "codemirror_mode": {
    "name": "ipython",
    "version": 3
   },
   "file_extension": ".py",
   "mimetype": "text/x-python",
   "name": "python",
   "nbconvert_exporter": "python",
   "pygments_lexer": "ipython3",
   "version": "3.10.9"
  }
 },
 "nbformat": 4,
 "nbformat_minor": 5
}
